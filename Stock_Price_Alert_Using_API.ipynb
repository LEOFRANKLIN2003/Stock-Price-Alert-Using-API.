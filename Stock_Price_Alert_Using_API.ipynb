{
  "cells": [
    {
      "cell_type": "markdown",
      "metadata": {
        "id": "view-in-github",
        "colab_type": "text"
      },
      "source": [
        "<a href=\"https://colab.research.google.com/github/LEOFRANKLIN2003/Diabetes-Prediction/blob/main/Stock_Price_Alert_Using_API.ipynb\" target=\"_parent\"><img src=\"https://colab.research.google.com/assets/colab-badge.svg\" alt=\"Open In Colab\"/></a>"
      ]
    },
    {
      "cell_type": "code",
      "execution_count": null,
      "metadata": {
        "colab": {
          "base_uri": "https://localhost:8080/"
        },
        "id": "1rldI5Cd915a",
        "outputId": "877ec014-ef56-44f8-b330-87ce6555d847"
      },
      "outputs": [
        {
          "name": "stdout",
          "output_type": "stream",
          "text": [
            "Collecting alpha_vantage\n",
            "  Downloading alpha_vantage-2.3.1-py3-none-any.whl (31 kB)\n",
            "Requirement already satisfied: aiohttp in /usr/local/lib/python3.10/dist-packages (from alpha_vantage) (3.8.6)\n",
            "Requirement already satisfied: requests in /usr/local/lib/python3.10/dist-packages (from alpha_vantage) (2.31.0)\n",
            "Requirement already satisfied: attrs>=17.3.0 in /usr/local/lib/python3.10/dist-packages (from aiohttp->alpha_vantage) (23.1.0)\n",
            "Requirement already satisfied: charset-normalizer<4.0,>=2.0 in /usr/local/lib/python3.10/dist-packages (from aiohttp->alpha_vantage) (3.3.2)\n",
            "Requirement already satisfied: multidict<7.0,>=4.5 in /usr/local/lib/python3.10/dist-packages (from aiohttp->alpha_vantage) (6.0.4)\n",
            "Requirement already satisfied: async-timeout<5.0,>=4.0.0a3 in /usr/local/lib/python3.10/dist-packages (from aiohttp->alpha_vantage) (4.0.3)\n",
            "Requirement already satisfied: yarl<2.0,>=1.0 in /usr/local/lib/python3.10/dist-packages (from aiohttp->alpha_vantage) (1.9.2)\n",
            "Requirement already satisfied: frozenlist>=1.1.1 in /usr/local/lib/python3.10/dist-packages (from aiohttp->alpha_vantage) (1.4.0)\n",
            "Requirement already satisfied: aiosignal>=1.1.2 in /usr/local/lib/python3.10/dist-packages (from aiohttp->alpha_vantage) (1.3.1)\n",
            "Requirement already satisfied: idna<4,>=2.5 in /usr/local/lib/python3.10/dist-packages (from requests->alpha_vantage) (3.4)\n",
            "Requirement already satisfied: urllib3<3,>=1.21.1 in /usr/local/lib/python3.10/dist-packages (from requests->alpha_vantage) (2.0.7)\n",
            "Requirement already satisfied: certifi>=2017.4.17 in /usr/local/lib/python3.10/dist-packages (from requests->alpha_vantage) (2023.7.22)\n",
            "Installing collected packages: alpha_vantage\n",
            "Successfully installed alpha_vantage-2.3.1\n"
          ]
        }
      ],
      "source": [
        "pip install alpha_vantage\n"
      ]
    },
    {
      "cell_type": "code",
      "execution_count": null,
      "metadata": {
        "colab": {
          "base_uri": "https://localhost:8080/"
        },
        "id": "jcJ2PU9rSysG",
        "outputId": "debf4cae-0b2c-4cdb-b8e6-341be5800120"
      },
      "outputs": [
        {
          "name": "stdout",
          "output_type": "stream",
          "text": [
            "Collecting bsedata\n",
            "  Downloading bsedata-0.5.4-py3-none-any.whl (14 kB)\n",
            "Requirement already satisfied: beautifulsoup4 in /usr/local/lib/python3.10/dist-packages (from bsedata) (4.11.2)\n",
            "Requirement already satisfied: requests in /usr/local/lib/python3.10/dist-packages (from bsedata) (2.31.0)\n",
            "Requirement already satisfied: lxml in /usr/local/lib/python3.10/dist-packages (from bsedata) (4.9.3)\n",
            "Requirement already satisfied: soupsieve>1.2 in /usr/local/lib/python3.10/dist-packages (from beautifulsoup4->bsedata) (2.5)\n",
            "Requirement already satisfied: charset-normalizer<4,>=2 in /usr/local/lib/python3.10/dist-packages (from requests->bsedata) (3.3.2)\n",
            "Requirement already satisfied: idna<4,>=2.5 in /usr/local/lib/python3.10/dist-packages (from requests->bsedata) (3.4)\n",
            "Requirement already satisfied: urllib3<3,>=1.21.1 in /usr/local/lib/python3.10/dist-packages (from requests->bsedata) (2.0.7)\n",
            "Requirement already satisfied: certifi>=2017.4.17 in /usr/local/lib/python3.10/dist-packages (from requests->bsedata) (2023.7.22)\n",
            "Installing collected packages: bsedata\n",
            "Successfully installed bsedata-0.5.4\n"
          ]
        }
      ],
      "source": [
        "pip install bsedata"
      ]
    },
    {
      "cell_type": "code",
      "execution_count": null,
      "metadata": {
        "colab": {
          "base_uri": "https://localhost:8080/"
        },
        "id": "Y7tMCwfg91jg",
        "outputId": "f5bdd849-d19b-4531-9fbe-9ea128d32594"
      },
      "outputs": [
        {
          "name": "stdout",
          "output_type": "stream",
          "text": [
            "Collecting twilio\n",
            "  Downloading twilio-8.10.2-py2.py3-none-any.whl (1.8 MB)\n",
            "\u001b[2K     \u001b[90m━━━━━━━━━━━━━━━━━━━━━━━━━━━━━━━━━━━━━━━━\u001b[0m \u001b[32m1.8/1.8 MB\u001b[0m \u001b[31m15.3 MB/s\u001b[0m eta \u001b[36m0:00:00\u001b[0m\n",
            "\u001b[?25hRequirement already satisfied: requests>=2.0.0 in /usr/local/lib/python3.10/dist-packages (from twilio) (2.31.0)\n",
            "Requirement already satisfied: PyJWT<3.0.0,>=2.0.0 in /usr/lib/python3/dist-packages (from twilio) (2.3.0)\n",
            "Requirement already satisfied: aiohttp>=3.8.4 in /usr/local/lib/python3.10/dist-packages (from twilio) (3.8.6)\n",
            "Collecting aiohttp-retry>=2.8.3 (from twilio)\n",
            "  Downloading aiohttp_retry-2.8.3-py3-none-any.whl (9.8 kB)\n",
            "Requirement already satisfied: attrs>=17.3.0 in /usr/local/lib/python3.10/dist-packages (from aiohttp>=3.8.4->twilio) (23.1.0)\n",
            "Requirement already satisfied: charset-normalizer<4.0,>=2.0 in /usr/local/lib/python3.10/dist-packages (from aiohttp>=3.8.4->twilio) (3.3.2)\n",
            "Requirement already satisfied: multidict<7.0,>=4.5 in /usr/local/lib/python3.10/dist-packages (from aiohttp>=3.8.4->twilio) (6.0.4)\n",
            "Requirement already satisfied: async-timeout<5.0,>=4.0.0a3 in /usr/local/lib/python3.10/dist-packages (from aiohttp>=3.8.4->twilio) (4.0.3)\n",
            "Requirement already satisfied: yarl<2.0,>=1.0 in /usr/local/lib/python3.10/dist-packages (from aiohttp>=3.8.4->twilio) (1.9.2)\n",
            "Requirement already satisfied: frozenlist>=1.1.1 in /usr/local/lib/python3.10/dist-packages (from aiohttp>=3.8.4->twilio) (1.4.0)\n",
            "Requirement already satisfied: aiosignal>=1.1.2 in /usr/local/lib/python3.10/dist-packages (from aiohttp>=3.8.4->twilio) (1.3.1)\n",
            "Requirement already satisfied: idna<4,>=2.5 in /usr/local/lib/python3.10/dist-packages (from requests>=2.0.0->twilio) (3.4)\n",
            "Requirement already satisfied: urllib3<3,>=1.21.1 in /usr/local/lib/python3.10/dist-packages (from requests>=2.0.0->twilio) (2.0.7)\n",
            "Requirement already satisfied: certifi>=2017.4.17 in /usr/local/lib/python3.10/dist-packages (from requests>=2.0.0->twilio) (2023.7.22)\n",
            "Installing collected packages: aiohttp-retry, twilio\n",
            "Successfully installed aiohttp-retry-2.8.3 twilio-8.10.2\n"
          ]
        }
      ],
      "source": [
        "pip install twilio"
      ]
    },
    {
      "cell_type": "code",
      "execution_count": null,
      "metadata": {
        "colab": {
          "background_save": true,
          "base_uri": "https://localhost:8080/"
        },
        "id": "FSju21Rd8CAK",
        "outputId": "fcf011b3-490f-407b-9df9-b534cd8ee9d2"
      },
      "outputs": [
        {
          "name": "stdout",
          "output_type": "stream",
          "text": [
            "1.Stock Price Alert For American Stocks\n",
            "2.Stock Price Alert For Indian Stocks(BSE) \n"
          ]
        }
      ],
      "source": [
        "print(\"1.Stock Price Alert For American Stocks\")\n",
        "print(\"2.Stock Price Alert For Indian Stocks(BSE) \")\n",
        "ch=int(input(\"Enter Your Choose   \"))"
      ]
    },
    {
      "cell_type": "code",
      "execution_count": null,
      "metadata": {
        "id": "TP9UWsNc9i0S"
      },
      "outputs": [],
      "source": [
        "if ch==1:\n",
        "      import pandas as pd\n",
        "      from alpha_vantage.timeseries import TimeSeries\n",
        "      import matplotlib.pyplot as plt\n",
        "      import time\n",
        "      import smtplib\n",
        "      from twilio.rest import Client\n",
        "      from datetime import datetime, timedelta\n",
        "      from datetime import timedelta, date\n",
        "      import requests\n",
        "\n",
        "      stock_name = input(\"Enter the name of the stock:  \")\n",
        "\n",
        "      ts = TimeSeries(key='K9VHHDQ753WTXHU4.', output_format='pandas')\n",
        "      data, meta_data = ts.get_intraday(symbol=stock_name,interval='1min', outputsize='full')\n",
        "\n",
        "\n",
        "      close_data = data['4. close']\n",
        "\n",
        "      last_price = close_data[0]\n",
        "\n",
        "\n",
        "      STOCK_ENDPOINT = \"https://www.alphavantage.co/query\"\n",
        "      NEWS_ENDPOINT = \"https://newsapi.org/v2/everything\"\n",
        "\n",
        "      stock_params = {\n",
        "          \"apikey\": \"K9VHHDQ753WTXHU4.\",\n",
        "          \"function\": \"TIME_SERIES_DAILY\",\n",
        "          \"symbol\": 'stock_name',\n",
        "          \"outputsize\": \"compact\"\n",
        "      }\n",
        "\n",
        "      news_params = {\n",
        "          \"q\": \"stock_name\",\n",
        "          \"apiKey\": \"8da182d5da71480b91098e48a37d5e3a\"\n",
        "      }\n",
        "\n",
        "\n",
        "\n",
        "\n",
        "      def daterange(date1, date2):\n",
        "        for n in range(int((date2 - date1).days)+1):\n",
        "          yield date1 + timedelta(n)\n",
        "\n",
        "\n",
        "      start_dt = date(2023, 10, 1)\n",
        "      end_dt = date(2023, 10, 30)\n",
        "\n",
        "      weekdays = [5, 6]\n",
        "      yesterday=[5]\n",
        "\n",
        "      try:\n",
        "          if weekdays != yesterday:\n",
        "              close_data = data['4. close']\n",
        "\n",
        "              last_price = close_data[0]\n",
        "              sender_email = \"Leofranklin2003@gmail.com\"\n",
        "              rec_email = \"21bcs6663@cuchd.in\"\n",
        "              password = (\"dexdhphsoedivtuh\")\n",
        "              message1 = \"HELLO BOSS.......STOCK ALERT!!! You Can Sell Your Stock Because The stock Price of \"+ stock_name +\" is \" + str(last_price) +\" \"+\"Which is Greater Than your Limit.\"\n",
        "              message2=\"HELLO BOSS.......STOCK ALERT!!! You Can Buy the Stock Now Because The stock Price of \"+ stock_name +\" is \" + str(last_price) +\" \"+\"Which is Lesser Than your Limit.\"\n",
        "              account_sid = 'ACbd8d3176977e2ca891e0bc61937e16c9'\n",
        "              auth_token = 'e9de02e91b28460a6a9f391e11c80825'\n",
        "\n",
        "              client = Client(account_sid, auth_token)\n",
        "              print(\"1.To Sell the Stock\")\n",
        "              print(\"2.To Buy the Stock\")\n",
        "              op=int(input(\"Enter 1 or 2  \"))\n",
        "\n",
        "              if op==1:\n",
        "                  Limit=int(input(\"Enter the Limited value of the Stock you want to Sell  \"))\n",
        "                  if last_price >=Limit:\n",
        "                      server = smtplib.SMTP('smtp.gmail.com', 587)\n",
        "                      server.starttls()\n",
        "                      server.login(\"Leofranklin2003@gmail.com\",\"dexdhphsoedivtuh\")\n",
        "                      print(\"Login Success\")\n",
        "                      server.sendmail(\"Leofranklin2003@gmail.com\",\"21bcs6663@cuchd.in\", message1)\n",
        "                      print(\"Email was sent\")\n",
        "                      Message = client.messages.create(\n",
        "                                from_=\"+17853844423\" ,\n",
        "                                body =\"HELLO BOSS.......STOCK ALERT!!! You Can Sell Your Stock Because The stock Price of \"+ stock_name +\" is \" + str(last_price) +\"Which is Greater Than your Limit.\",\n",
        "                                to ='+916382369019'\n",
        "                            )\n",
        "              if op==2:\n",
        "                  Limit=int(input(\"Enter the Limited value of the Stock you Want to Buy  \"))\n",
        "                  if last_price <= Limit:\n",
        "                      server = smtplib.SMTP('smtp.gmail.com', 587)\n",
        "                      server.starttls()\n",
        "                      server.login(\"Leofranklin2003@gmail.com\",\"dexdhphsoedivtuh\")\n",
        "                      print(\"Login Success\")\n",
        "                      server.sendmail(\"Leofranklin2003@gmail.com\",\"21bcs6663@cuchd.in\", message2)\n",
        "                      print(\"Email was sent\")\n",
        "                      Message = client.messages.create(\n",
        "                                from_=\"+17853844423\" ,\n",
        "                                body =\"HELLO BOSS.......STOCK ALERT!!! You Can Buy the Stock Now Because The stock Price of \"+ stock_name +\" is \" + str(last_price) +\"Which is Lesser Than your Limit.\",\n",
        "                                to ='+916382369019'\n",
        "                            )\n",
        "\n",
        "      except:\n",
        "          sender_email = \"Leofranklin2003@gmail.com\"\n",
        "          rec_email = \"21bcs6663@cuchd.in\"\n",
        "          password =(\"dexdhphsoedivtuh\")\n",
        "          message = \"STOCK ALERT!!! OOPS!,......Stock market is on leave yesterday\"\n",
        "          target_sell_price =Limit\n",
        "          account_sid = 'ACbd8d3176977e2ca891e0bc61937e16c9'\n",
        "          auth_token = 'e9de02e91b28460a6a9f391e11c80825'\n",
        "\n",
        "          client = Client(account_sid, auth_token)\n",
        "\n",
        "          if last_price > target_sell_price:\n",
        "                server = smtplib.SMTP('smtp.gmail.com', 587)\n",
        "                server.starttls()\n",
        "                server.login(\"Leofranklin2003@gmail.com\",\"dexdhphsoedivtuh\")\n",
        "                print(\"Login Success\")\n",
        "                server.sendmail(\"Leofranklin2003@gmail.com\", \"21bcs6663@cuchd.in\", message)\n",
        "                print(\"Email was sent\")\n",
        "\n",
        "                Message = client.messages.create(\n",
        "                                from_=\"+17853844423\" ,\n",
        "                                body =\"HELLO BOSS.......STOCK ALERT!!! OOPS!,......Stock market is on leave yesterday\",\n",
        "                                to =\"+916382369019\",\n",
        "\n",
        "                          )\n",
        "\n",
        "\n",
        "if ch==2:\n",
        "    from bsedata.bse import BSE\n",
        "    b=BSE()\n",
        "\n",
        "    id=input(\"Enter the Security Code of the Stock  \")\n",
        "    quote=b.getQuote(id)\n",
        "    last_price=quote[\"currentValue\"]\n",
        "    price=float(last_price)\n",
        "    sender_email = \"Leofranklin2003@gmail.com\"\n",
        "    rec_email = \"21bcs6663@cuchd.in\"\n",
        "    password = (\"dexdhphsoedivtuh\")\n",
        "    message1 = \"HELLO BOSS.......STOCK ALERT!!! You Can Sell Your Stock Because The stock Price of \"+ id +\" is \" + str(last_price) +\" \"+\"Which is Greater Than your Limit.\"\n",
        "    message2=\"HELLO BOSS.......STOCK ALERT!!! You Can Buy the Stock Now Because The stock Price of \"+ id +\" is \" + str(last_price) +\" \"+\"Which is Lesser Than your Limit.\"\n",
        "    account_sid = 'ACbd8d3176977e2ca891e0bc61937e16c9'\n",
        "    auth_token = 'e9de02e91b28460a6a9f391e11c80825'\n",
        "\n",
        "    client = Client(account_sid, auth_token)\n",
        "    print(\"1.To Sell the Stock\")\n",
        "    print(\"2.To Buy the Stock\")\n",
        "    op=int(input(\"Enter 1 or 2  \"))\n",
        "\n",
        "    if op==1:\n",
        "        Limit=int (input(\"Enter the Limited value of the Stock you want to Sell  \"))\n",
        "        if price > Limit:\n",
        "                server = smtplib.SMTP('smtp.gmail.com', 587)\n",
        "                server.starttls()\n",
        "                server.login(\"Leofranklin2003@gmail.com\",\"dexdhphsoedivtuh\")\n",
        "                print(\"Login Success\")\n",
        "                server.sendmail(\"Leofranklin2003@gmail.com\",\"21bcs6663@cuchd.in\", message1)\n",
        "                print(\"Email was sent\")\n",
        "                Message = client.messages.create(\n",
        "                            from_=\"+17853844423\" ,\n",
        "                            body =\"HELLO BOSS.......STOCK ALERT!!! You Can Sell Your Stock Because The stock Price of \"+ id  +\" is \" + str(last_price) +\"Which is Greater Than your Limit.\",\n",
        "                            to ='+916382369019'\n",
        "                        )\n",
        "                print(\"Message Sent\")\n",
        "\n",
        "    if op==2:\n",
        "        Limit=int(input(\"Enter the Limited value of the Stock you Want to Buy  \"))\n",
        "        if price <= Limit:\n",
        "                server = smtplib.SMTP('smtp.gmail.com', 587)\n",
        "                server.starttls()\n",
        "                server.login(\"Leofranklin2003@gmail.com\",\"dexdhphsoedivtuh\")\n",
        "                print(\"Login Success\")\n",
        "                server.sendmail(\"Leofranklin2003@gmail.com\",\"21bcs6663@cuchd.in\", message2)\n",
        "                print(\"Email was sent\")\n",
        "                Message = client.messages.create(\n",
        "                          from_=\"+17853844423\" ,\n",
        "                          body =\"HELLO BOSS.......STOCK ALERT!!! You Can Buy the Stock Now Because The stock Price of \"+ id  +\" is \" + str(last_price) +\"Which is Lesser Than your Limit.\",\n",
        "                          to ='+916382369019'\n",
        "                      )\n",
        "\n",
        "\n",
        "\n",
        "\n",
        "\n",
        "\n",
        "\n"
      ]
    }
  ],
  "metadata": {
    "colab": {
      "provenance": [],
      "authorship_tag": "ABX9TyPCbPhbovCY9ZdeiDUjhEdD",
      "include_colab_link": true
    },
    "kernelspec": {
      "display_name": "Python 3",
      "name": "python3"
    },
    "language_info": {
      "name": "python"
    }
  },
  "nbformat": 4,
  "nbformat_minor": 0
}